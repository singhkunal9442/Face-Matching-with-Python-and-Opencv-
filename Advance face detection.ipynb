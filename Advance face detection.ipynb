{
 "cells": [
  {
   "cell_type": "code",
   "execution_count": 1,
   "id": "323dcb36-314c-4eb8-bc69-8b266a677882",
   "metadata": {},
   "outputs": [],
   "source": [
    "import cv2\n",
    "\n",
    "def main():\n",
    "    template = cv2.imread('WhatsApp Image.jpg', cv2.IMREAD_GRAYSCALE)\n",
    "    template_height, template_width = template.shape\n",
    "\n",
    "    orb = cv2.ORB_create()\n",
    "    keypoints_template, descriptors_template = orb.detectAndCompute(template, None)\n",
    "\n",
    "    # FLANN parameters\n",
    "    FLANN_INDEX_LSH = 6\n",
    "    index_params = dict(algorithm=FLANN_INDEX_LSH, table_number=6, key_size=12, multi_probe_level=1)\n",
    "    search_params = dict(checks=50) \n",
    "\n",
    "    flann = cv2.FlannBasedMatcher(index_params, search_params)\n",
    "\n",
    "    cap = cv2.VideoCapture(0)  # Change the index to your camera's index (usually 0)\n",
    "\n",
    "    while True:\n",
    "        ret, frame = cap.read()\n",
    "        if not ret:\n",
    "            break\n",
    "\n",
    "        gray_frame = cv2.cvtColor(frame, cv2.COLOR_BGR2GRAY)\n",
    "        keypoints_frame, descriptors_frame = orb.detectAndCompute(gray_frame, None)\n",
    "\n",
    "        if descriptors_frame is None:\n",
    "            continue\n",
    "\n",
    "        matches = flann.knnMatch(descriptors_template, descriptors_frame, k=2)\n",
    "\n",
    "        good_matches = []\n",
    "        for match_pair in matches:\n",
    "            if len(match_pair) == 2:\n",
    "                m, n = match_pair\n",
    "                if m.distance < 0.7 * n.distance:  # Lowe's ratio test\n",
    "                    good_matches.append(m)\n",
    "\n",
    "        if len(good_matches) >= 10:\n",
    "            matching_result = cv2.drawMatches(template, keypoints_template, gray_frame, keypoints_frame, good_matches, None,\n",
    "                                             flags=2)\n",
    "            cv2.imshow('Object Detection', matching_result)\n",
    "        else:\n",
    "            cv2.imshow('Object Detection', gray_frame)\n",
    "\n",
    "        if cv2.waitKey(1) & 0xFF == ord('q'):\n",
    "            break\n",
    "\n",
    "    cap.release()\n",
    "    cv2.destroyAllWindows()\n",
    "\n",
    "\n"
   ]
  },
  {
   "cell_type": "code",
   "execution_count": 2,
   "id": "65ad8271-6760-4818-a647-88fa3c11d79e",
   "metadata": {},
   "outputs": [],
   "source": [
    "if __name__ == '__main__':\n",
    "    main()"
   ]
  },
  {
   "cell_type": "code",
   "execution_count": null,
   "id": "c985756c-0ad4-407d-943f-bc1edc8592ca",
   "metadata": {},
   "outputs": [],
   "source": []
  },
  {
   "cell_type": "code",
   "execution_count": null,
   "id": "c03853a1-45ed-4db8-a067-0f891ddc4830",
   "metadata": {},
   "outputs": [],
   "source": []
  }
 ],
 "metadata": {
  "kernelspec": {
   "display_name": "Python 3 (ipykernel)",
   "language": "python",
   "name": "python3"
  },
  "language_info": {
   "codemirror_mode": {
    "name": "ipython",
    "version": 3
   },
   "file_extension": ".py",
   "mimetype": "text/x-python",
   "name": "python",
   "nbconvert_exporter": "python",
   "pygments_lexer": "ipython3",
   "version": "3.9.13"
  }
 },
 "nbformat": 4,
 "nbformat_minor": 5
}
